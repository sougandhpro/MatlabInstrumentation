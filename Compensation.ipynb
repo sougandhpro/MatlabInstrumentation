{
 "cells": [
  {
   "cell_type": "code",
   "execution_count": 1,
   "id": "00cabf3d",
   "metadata": {},
   "outputs": [],
   "source": [
    "import nidaqmx as ni\n",
    "import numpy as np"
   ]
  },
  {
   "cell_type": "code",
   "execution_count": 3,
   "id": "19f71d5d",
   "metadata": {},
   "outputs": [],
   "source": [
    "#Intialising task for coil and fluxgate\n",
    "\n",
    "coil = ni.Task()\n",
    "flux = ni.Task()"
   ]
  },
  {
   "cell_type": "code",
   "execution_count": 5,
   "id": "8233aa1d",
   "metadata": {},
   "outputs": [
    {
     "data": {
      "text/plain": [
       "AOChannel(name=myDAQ1/ao1)"
      ]
     },
     "execution_count": 5,
     "metadata": {},
     "output_type": "execute_result"
    }
   ],
   "source": [
    "coil.ao_channels.add_ao_voltage_chan('myDAQ1/ao0')\n",
    "coil.ao_channels.add_ao_voltage_chan('myDAQ1/ao1')\n",
    "coil.ao_channels.add_ao_voltage_chan('myDAQ2/ao0')\n",
    "#Need to add one more output"
   ]
  },
  {
   "cell_type": "code",
   "execution_count": 6,
   "id": "984893ee",
   "metadata": {},
   "outputs": [
    {
     "data": {
      "text/plain": [
       "AIChannel(name=myDAQ1/ai1)"
      ]
     },
     "execution_count": 6,
     "metadata": {},
     "output_type": "execute_result"
    }
   ],
   "source": [
    "flux.ai_channels.add_ai_voltage_chan('myDAQ1/ai0')\n",
    "flux.ai_channels.add_ai_voltage_chan('myDAQ1/ai1')\n",
    "flux.ai_channels.add_ai_voltage_chan('myDAQ2/ai0')\n",
    "#Need to add more input"
   ]
  },
  {
   "cell_type": "code",
   "execution_count": 7,
   "id": "763e4cd1",
   "metadata": {},
   "outputs": [
    {
     "data": {
      "text/plain": [
       "1"
      ]
     },
     "execution_count": 7,
     "metadata": {},
     "output_type": "execute_result"
    }
   ],
   "source": [
    "#intialise parameters.\n",
    "coil.write([0,0,0])\n",
    "temp = np.array((1,3))"
   ]
  },
  {
   "cell_type": "code",
   "execution_count": null,
   "id": "14e92b91",
   "metadata": {},
   "outputs": [],
   "source": [
    "def direction_check(coil,flux):\n",
    "    inc = 1\n",
    "    temp = np.average(flux.read(number_of_samples_per_channel=50),axis = 1)\n",
    "    mag_temp = math.sqrt((temp[0]**2)+(temp[1]**2)+(temp[2]**2))\n",
    "    coil.write([inc,0,0])\n",
    "    temp_x = np.average(flux.read(number_of_samples_per_channel=50),axis = 1)\n",
    "    mag_temp_x = math.sqrt((temp_x[0]**2)+(temp_x[1]**2)+(temp_x[2]**2))\n",
    "    if(mag_temp_x>mag_temp):\n",
    "        print(\"ao0  polarity change \")\n",
    "        break\n",
    "    coil.write([0,inc,0])\n",
    "    temp_y = np.average(flux.read(number_of_samples_per_channel=50),axis = 1)\n",
    "    mag_temp_y = math.sqrt((temp_y[0]**2)+(temp_y[1]**2)+(temp_y[2]**2))\n",
    "    if(mag_temp_y>mag_temp):\n",
    "        print(\"ao1  polarity change \")\n",
    "        break\n",
    "    coil.write([0,0,inc])\n",
    "    temp_z = np.average(flux.read(number_of_samples_per_channel=50),axis = 1)\n",
    "    mag_temp_z = math.sqrt((temp_z[0]**2)+(temp_z[1]**2)+(temp_z[2]**2))\n",
    "    if(mag_temp_z>mag_temp):\n",
    "        print(\"2nd device ao0  polarity change \")\n",
    "        break"
   ]
  },
  {
   "cell_type": "code",
   "execution_count": null,
   "id": "6ca1c36b",
   "metadata": {},
   "outputs": [],
   "source": [
    "coil.write([0,0,0])\n",
    "incr = 0.001\n",
    "rx=0,ry=0,rz=0\n",
    "itr = 5"
   ]
  },
  {
   "cell_type": "code",
   "execution_count": null,
   "id": "66489ca4",
   "metadata": {},
   "outputs": [],
   "source": [
    "def mag(t):\n",
    "    return math.sqrt((t[0]**2)+(t[1]**2)+(t[2]**2))"
   ]
  },
  {
   "cell_type": "code",
   "execution_count": null,
   "id": "0d84ba2f",
   "metadata": {},
   "outputs": [],
   "source": [
    "direction_check(coil,flux)\n",
    "while x<itr:\n",
    "    x=x+1\n",
    "    while True:\n",
    "        init = mag(np.average(flux.read(number_of_samples_per_channel=50),axis = 1)) \n",
    "        rx=rx+inc\n",
    "        coil.write([rx,0,0])\n",
    "        fint = mag(np.average(flux.read(number_of_samples_per_channel=50),axis = 1))\n",
    "        if(init>fint):\n",
    "            continue\n",
    "        else :\n",
    "            coil.write([rx-inc,0,0])\n",
    "            rx=rx-inc\n",
    "            break\n",
    "    while True:\n",
    "        init = mag(np.average(flux.read(number_of_samples_per_channel=50),axis = 1)) \n",
    "        ry=ry+inc\n",
    "        coil.write([ry,0,0])\n",
    "        fint = mag(np.average(flux.read(number_of_samples_per_channel=50),axis = 1))\n",
    "        if(init>fint):\n",
    "            continue\n",
    "        else :\n",
    "            coil.write([ry-inc,0,0])\n",
    "            ry=ry-inc\n",
    "            break\n",
    "    while True:\n",
    "        init = mag(np.average(flux.read(number_of_samples_per_channel=50),axis = 1)) \n",
    "        rz=rz+inc\n",
    "        coil.write([rx,0,0])\n",
    "        fint = mag(np.average(flux.read(number_of_samples_per_channel=50),axis = 1))\n",
    "        if(init>fint):\n",
    "            continue\n",
    "        else :\n",
    "            coil.write([rz-inc,0,0])\n",
    "            rz=rz-inc\n",
    "            break"
   ]
  }
 ],
 "metadata": {
  "kernelspec": {
   "display_name": "Python 3 (ipykernel)",
   "language": "python",
   "name": "python3"
  },
  "language_info": {
   "codemirror_mode": {
    "name": "ipython",
    "version": 3
   },
   "file_extension": ".py",
   "mimetype": "text/x-python",
   "name": "python",
   "nbconvert_exporter": "python",
   "pygments_lexer": "ipython3",
   "version": "3.10.10"
  }
 },
 "nbformat": 4,
 "nbformat_minor": 5
}
